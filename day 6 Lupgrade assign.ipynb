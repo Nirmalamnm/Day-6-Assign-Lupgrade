{
 "cells": [
  {
   "cell_type": "code",
   "execution_count": null,
   "metadata": {},
   "outputs": [],
   "source": [
    "# Exception Handling"
   ]
  },
  {
   "cell_type": "code",
   "execution_count": 3,
   "metadata": {},
   "outputs": [
    {
     "name": "stdout",
     "output_type": "stream",
     "text": [
      "Overwriting unittestof_Twonumbers.py\n"
     ]
    }
   ],
   "source": [
    "%%writefile unittestof_Twonumbers.py\n",
    "import unittest\n",
    "import adding_Multiplenumbers\n",
    "\n",
    "class TestAddition(unittest.TestCase):\n",
    "    \n",
    "    def test_two_numbers(self):\n",
    "        A = 1\n",
    "        B = 2\n",
    "        result = adding_Multiplenumbers.addNumbers(A,B)\n",
    "        self.assertEqual(result,3)\n",
    "        \n",
    "    def test_multiple_numbers(self):\n",
    "        list_of_Numbers = list(range(1,200))\n",
    "        result = adding_Multiplenumbers.addNumbers(list_of_Numbers)\n",
    "        self.assertEqual(result,19900)\n",
    "    \n",
    "    def test_three_args(self):\n",
    "        A= 1\n",
    "        B= 2\n",
    "        C= 3\n",
    "        result = adding_Multiplenumbers.addNumbers(A,B,C)\n",
    "        self.assertEqual(result,\"Refer to doc string\")\n",
    "        \n",
    "    \n",
    "if __name__ == '__main__':\n",
    "    unittest.main()"
   ]
  },
  {
   "cell_type": "code",
   "execution_count": null,
   "metadata": {},
   "outputs": [],
   "source": []
  },
  {
   "cell_type": "code",
   "execution_count": 4,
   "metadata": {},
   "outputs": [
    {
     "name": "stdout",
     "output_type": "stream",
     "text": [
      "It is properly running\n",
      "It is a code which will run no matter what\n"
     ]
    }
   ],
   "source": [
    "try:\n",
    "    5/1\n",
    "    print(\"It is properly running\")\n",
    "except:\n",
    "    print(\"It was an error thats where we are in Except block\")\n",
    "finally:\n",
    "    print(\"It is a code which will run no matter what\")"
   ]
  },
  {
   "cell_type": "code",
   "execution_count": null,
   "metadata": {},
   "outputs": [],
   "source": []
  },
  {
   "cell_type": "code",
   "execution_count": 5,
   "metadata": {},
   "outputs": [
    {
     "name": "stdout",
     "output_type": "stream",
     "text": [
      "Database not found or its down try loging into Insta after some time\n",
      "division by zero\n",
      "Close the connection, from the DB\n"
     ]
    }
   ],
   "source": [
    "try:\n",
    "    5/0\n",
    "    print(\"Get the user from the database\")\n",
    "    print(\"Database found\")\n",
    "except Exception as e:\n",
    "    print(\"Database not found or its down try loging into Insta after some time\")\n",
    "    print(e)\n",
    "finally:\n",
    "    print(\"Close the connection, from the DB\")"
   ]
  },
  {
   "cell_type": "code",
   "execution_count": null,
   "metadata": {},
   "outputs": [],
   "source": []
  },
  {
   "cell_type": "code",
   "execution_count": null,
   "metadata": {},
   "outputs": [],
   "source": []
  },
  {
   "cell_type": "code",
   "execution_count": null,
   "metadata": {},
   "outputs": [],
   "source": []
  },
  {
   "cell_type": "code",
   "execution_count": null,
   "metadata": {},
   "outputs": [],
   "source": []
  },
  {
   "cell_type": "code",
   "execution_count": null,
   "metadata": {},
   "outputs": [],
   "source": []
  }
 ],
 "metadata": {
  "kernelspec": {
   "display_name": "Python 3",
   "language": "python",
   "name": "python3"
  },
  "language_info": {
   "codemirror_mode": {
    "name": "ipython",
    "version": 3
   },
   "file_extension": ".py",
   "mimetype": "text/x-python",
   "name": "python",
   "nbconvert_exporter": "python",
   "pygments_lexer": "ipython3",
   "version": "3.7.6"
  }
 },
 "nbformat": 4,
 "nbformat_minor": 4
}
